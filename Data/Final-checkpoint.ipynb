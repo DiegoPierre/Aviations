{
 "cells": [
  {
   "cell_type": "markdown",
   "metadata": {},
   "source": [
    "<img src=\"Images/Avion2.png\" width=\"400\" style=\"display: block; margin: 0 auto;\">\n",
    "<p style='text-align: center; font-style: italic; color: #7f8c8d;'>\n",
    "    Source : Données NTSB 1962-2023\n",
    "</p>\n"
   ]
  },
  {
   "cell_type": "markdown",
   "metadata": {},
   "source": [
    "# Évaluation des Risques Aériens pour l’Acquisition d’Avions\n",
    "Ce projet analyse les données d’accidents aériens de 1962 à 2023 fournies par le National Transportation Safety Board (NTSB), afin d’aider notre entreprise à entrer en toute sécurité dans le secteur de l’aviation.\n",
    "\n",
    "À travers des techniques de nettoyage, d’analyse et de visualisation des données, nous identifions les types d’avions les moins risqués et formulons des recommandations concrètes pour leur acquisition.\n",
    "\n",
    "L’objectif final est de permettre à l’entreprise de prendre des décisions éclairées et basées sur les données pour minimiser les risques."
   ]
  },
  {
   "cell_type": "markdown",
   "metadata": {
    "jp-MarkdownHeadingCollapsed": true
   },
   "source": [
    "## Compréhension des affaires\n",
    "\n",
    "Contexte :\n",
    "Notre entreprise cherche à élargir son portefeuille en entrant dans le secteur de l’aviation commerciale et privée.\n",
    "\n",
    "Objectif stratégique :\n",
    "Identifier les types d’avions les plus sûrs à acquérir, en se basant sur les données d’accidents historiques, pour minimiser les risques opérationnels et financiers.\n",
    "\n",
    "Défis clés :\n",
    "\n",
    "L'aviation est un secteur à haut risque, avec des implications humaines, économiques et juridiques importantes en cas d'incident.\n",
    "\n",
    "L'entreprise n’a pas encore de connaissances spécifiques sur les modèles d’avions ni sur les facteurs de risque associés.\n",
    "\n",
    "Notre mission :\n",
    "Fournir à la direction des recommandations basées sur des données pour orienter les décisions d’investissement dans l’achat d’avions, en mettant l’accent sur la sécurité, la fiabilité et les tendances d’accidents par modèle d’appareil."
   ]
  },
  {
   "cell_type": "markdown",
   "metadata": {},
   "source": [
    "## Data Understanding\n",
    "Source des données :\n",
    "National Transportation Safety Board (NTSB)\n",
    "Période couverte : 1962 à 2023\n",
    "Portée : Accidents d’aviation civile aux États-Unis et dans les eaux internationales\n",
    "\n",
    "Volume de données :\n",
    "+ Plus de 80 000 enregistrements\n",
    "Chaque ligne représente un incident ou accident d’aviation\n",
    "\n",
    "Variables clés analysées :\n",
    "\n",
    "Date de l’événement\n",
    "\n",
    "Modèle de l’avion\n",
    "\n",
    "Gravité des blessures (aucune, mineures, graves, mortelles)\n",
    "\n",
    "Phase du vol (décollage, croisière, atterrissage, etc.)\n",
    "\n",
    "Conditions météorologiques\n",
    "\n",
    "Cause probable\n",
    "\n",
    "Type d’exploitation (commerciale, privée, militaire, etc.)\n",
    "\n",
    "Objectif de l’analyse :\n",
    "Comprendre les tendances, facteurs de risque, et déterminer quels types d’avions sont les plus sûrs pour guider les décisions d’investissement.\n",
    "\n"
   ]
  },
  {
   "cell_type": "markdown",
   "metadata": {},
   "source": [
    "## Data Preparation\n",
    " Analyse des données manquantes\n",
    " \n",
    "Nettoyage des données manquantes :\n",
    "\n",
    "Détection et suppression des doublons\n",
    "\n",
    "Priorité donnée aux colonnes critiques pour l’analyse (modèle, sévérité, date)\n",
    "\n",
    "Conversion de la colonne de dates\n",
    "\n",
    "Transformation des colonnes de dates au bon format (datetime)\n",
    "\n",
    "Regroupement par type météo avec moyenne de la gravité\n",
    "\n",
    "Uniformisation des champs numériques (nombre de blessés, morts, etc.)\n",
    "\n",
    "Agrégation des données :\n",
    "\n",
    "Par modèle d’avion pour comparer la fréquence et la gravité des incidents\n",
    "\n",
    "Par type de vol (commercial, privé, formation, etc.)\n",
    "\n"
   ]
  },
  {
   "cell_type": "markdown",
   "metadata": {},
   "source": [
    "## Analysis and Results\n",
    "\n",
    "Taux d’accidents par type d’avion :\n",
    "\n",
    "Calcul du nombre d’accidents par modèle, normalisé si possible par l’usage (si données disponibles)\n",
    "\n",
    "Identification des modèles présentant le moins d’accidents ou de blessures graves\n",
    "\n",
    "📈 Visualisation : Nombre d'accidents par mois\n",
    "\n",
    "Impact des conditions météorologiques :\n",
    "\n",
    "Répartition géographique des accidents :\n",
    "\n",
    "\n",
    "\n"
   ]
  },
  {
   "cell_type": "markdown",
   "metadata": {
    "jp-MarkdownHeadingCollapsed": true
   },
   "source": [
    "### Business Recommendation 1\n",
    "investir dans les modèles les plus fiables\n",
    "\n",
    "Acheter les modèles d’avions ayant un historique sans accident mortel depuis plus de 10 ans\n",
    "\n",
    "Données historiques fiables = risque opérationnel réduit\n",
    "\n",
    "Exemples (si disponibles) : Boeing 737 NextGen, Airbus A320neo..."
   ]
  },
  {
   "cell_type": "markdown",
   "metadata": {
    "jp-MarkdownHeadingCollapsed": true
   },
   "source": [
    "### Business Recommendation 2\n",
    "Éviter les modèles sensibles à la météo\n",
    "\n",
    "Certains modèles sont statistiquement plus impliqués dans des accidents par mauvais temps\n",
    "\n",
    "Prioriser les avions avec meilleure performance en conditions météorologiques défavorables\n",
    "\n",
    "Important pour les opérations en zones à climat instable"
   ]
  },
  {
   "cell_type": "markdown",
   "metadata": {},
   "source": [
    "### Business Recommendation 3\n",
    "Privilégier les avions à usage commercial\n",
    "\n",
    "Les avions destinés au transport commercial montrent un taux de sécurité supérieur\n",
    "\n",
    "Meilleure maintenance, régulation stricte, équipages mieux formés\n",
    "\n",
    "Recommandé pour un modèle d’affaires à faible risque"
   ]
  },
  {
   "cell_type": "markdown",
   "metadata": {},
   "source": [
    "## Conclusion\n",
    "Les modèles les plus sûrs ont été identifiés à partir d’une analyse rigoureuse des données NTSB\n",
    "\n",
    "Des facteurs clés comme la météo et le type de vol influencent significativement le risque\n",
    "\n",
    "Cette analyse offre une base solide pour une entrée maîtrisée dans le secteur aéronautique"
   ]
  },
  {
   "cell_type": "markdown",
   "metadata": {},
   "source": [
    "### \n",
    "Aller plus loin dans la décision d’investissement\n",
    "\n",
    "Intégrer des données sur la maintenance, l’âge des avions, la formation des pilotes\n",
    "\n",
    "Consulter des experts du secteur pour valider les choix techniques et stratégiques\n",
    "\n",
    "Simuler des scénarios d’achat selon différents modèles économiques"
   ]
  },
  {
   "attachments": {},
   "cell_type": "markdown",
   "metadata": {},
   "source": [
    "##\n",
    "Merci pour votre attention !\n",
    "Des questions ?\n",
    "\n",
    "Nom :Septama Louison  \n",
    "Email :septamalouison634@gmail.com\n",
    "\n",
    "LinkedIn :https://www.linkedin.com/in/septama-louison-03335a31a/\n"
   ]
  },
  {
   "cell_type": "code",
   "execution_count": null,
   "metadata": {},
   "outputs": [],
   "source": []
  }
 ],
 "metadata": {
  "kernelspec": {
   "display_name": "Python (learn-env)",
   "language": "python",
   "name": "learn-env"
  },
  "language_info": {
   "codemirror_mode": {
    "name": "ipython",
    "version": 3
   },
   "file_extension": ".py",
   "mimetype": "text/x-python",
   "name": "python",
   "nbconvert_exporter": "python",
   "pygments_lexer": "ipython3",
   "version": "3.12.7"
  }
 },
 "nbformat": 4,
 "nbformat_minor": 4
}
